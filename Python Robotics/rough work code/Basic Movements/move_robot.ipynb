{
 "cells": [
  {
   "cell_type": "code",
   "execution_count": 1,
   "metadata": {},
   "outputs": [],
   "source": [
    "#========================================================\n",
    "#________________________________________________________\n",
    "#Filename: move_robot.ipynb\n",
    "#Author: Sopumelela Sandekela\n",
    "#Create: 23/07/2024\n",
    "#Operationg System: DexterOS\n",
    "#Version: v1.0\n",
    "#Description:This code is for moving the robot in certain directions.\n",
    "#________________________________________________________\n",
    "\n",
    "#import the time library for the sleep function\n",
    "import time\n",
    "from easygopigo3 import easy #Importing the EasyGoPiGo3 class\n",
    "#create an instance of the GoPiGo3 class.\n",
    "#gpg will be the GoPiGo object.\n",
    "\n",
    "gpg = easy.EasyGoPiGo3() #instantiating a EasyGoPiGo3 Object\n",
    "\n"
   ]
  },
  {
   "cell_type": "code",
   "execution_count": 2,
   "metadata": {},
   "outputs": [
    {
     "name": "stdout",
     "output_type": "stream",
     "text": [
      "Move the motors forward freely for 2 second.\n"
     ]
    }
   ],
   "source": [
    "\n",
    "#Let's move the robot for two seconds and then wait for two seconds.\n",
    "print(\"Move the motors forward freely for 2 second.\")\n",
    "gpg.forward()\n",
    "time.sleep(2)\n",
    "gpg.stop()\n"
   ]
  },
  {
   "cell_type": "code",
   "execution_count": 3,
   "metadata": {},
   "outputs": [
    {
     "name": "stdout",
     "output_type": "stream",
     "text": [
      "Stop the motors for 1 second.\n"
     ]
    }
   ],
   "source": [
    "\n",
    "#Stop the motors for a second.\n",
    "print(\"Stop the motors for 1 second.\")\n",
    "time.sleep(1)\n"
   ]
  },
  {
   "cell_type": "code",
   "execution_count": 4,
   "metadata": {},
   "outputs": [
    {
     "name": "stdout",
     "output_type": "stream",
     "text": [
      "Drive the motors 50 cm and then stop.\n",
      "Turn left 1 second.\n",
      "Turn right 1 second.\n"
     ]
    }
   ],
   "source": [
    "\n",
    "#Drive for a few centimeters and then turn left \n",
    "#for a second and turn right for a second.\n",
    "print(\"Drive the motors 50 cm and then stop.\")\n",
    "gpg.drive_cm(50, True)\n",
    "time.sleep(1)\n",
    "\n",
    "print(\"Turn left 1 second.\")\n",
    "gpg.left()\n",
    "time.sleep(1)\n",
    "\n",
    "print(\"Turn right 1 second.\")\n",
    "gpg.right()\n",
    "time.sleep(1)"
   ]
  },
  {
   "cell_type": "code",
   "execution_count": 5,
   "metadata": {},
   "outputs": [
    {
     "name": "stdout",
     "output_type": "stream",
     "text": [
      "Done!\n"
     ]
    }
   ],
   "source": [
    "\n",
    "#Stop the robot.\n",
    "gpg.stop()\n",
    "print(\"Done!\")\n"
   ]
  },
  {
   "cell_type": "code",
   "execution_count": 8,
   "metadata": {},
   "outputs": [],
   "source": [
    "#Testing backward...\n",
    "gpg.backward()\n",
    "time.sleep(0.1)\n",
    "gpg.stop()\n"
   ]
  },
  {
   "cell_type": "code",
   "execution_count": 9,
   "metadata": {},
   "outputs": [],
   "source": [
    "gpg.drive_cm(15)"
   ]
  },
  {
   "cell_type": "code",
   "execution_count": null,
   "metadata": {},
   "outputs": [],
   "source": []
  }
 ],
 "metadata": {
  "kernelspec": {
   "display_name": "Python 3",
   "language": "python",
   "name": "python3"
  },
  "language_info": {
   "codemirror_mode": {
    "name": "ipython",
    "version": 3
   },
   "file_extension": ".py",
   "mimetype": "text/x-python",
   "name": "python",
   "nbconvert_exporter": "python",
   "pygments_lexer": "ipython3",
   "version": "3.7.3"
  }
 },
 "nbformat": 4,
 "nbformat_minor": 5
}
