{
 "cells": [
  {
   "cell_type": "code",
   "execution_count": 14,
   "metadata": {},
   "outputs": [],
   "source": [
    "#===========================================\n",
    "#*********-INSTALL OPENCV LIBRARY-********** \n",
    "#==========================================="
   ]
  },
  {
   "cell_type": "code",
   "execution_count": null,
   "metadata": {},
   "outputs": [],
   "source": []
  },
  {
   "cell_type": "code",
   "execution_count": null,
   "metadata": {},
   "outputs": [],
   "source": [
    "#========================================================\n",
    "#________________________________________________________\n",
    "#Filename: Image_mask.ipynb\n",
    "#Author: Sopumelela Sandekela\n",
    "#Create: 22/07/2024\n",
    "#Operationg System: DexterOS\n",
    "#Version: v1.0\n",
    "#Description: This code captures video from defualt camera, \n",
    "#converts it to HSV color space, and applies a mask \n",
    "#to detect blue objects.\n",
    "#________________________________________________________\n",
    "\n",
    "import cv2\n",
    "import numpy as np\n",
    "\n",
    "cap = cv2.VideoCapture(0)\n",
    "\n",
    "if cap.isOpened():\n",
    "    ret, frame = cap.read() #Capture the image of the camera\n",
    "else:\n",
    "    ret = False\n",
    "\n",
    "while ret:\n",
    "    ret, frame = cap.read() #Check if the camera works fine.\n",
    "    hsv = cv2.cvtColor(frame, cv2.COLOR_BGR2HSV)\n",
    "\n",
    "    #Specifies blue color Range...\n",
    "    low = np.array([100,50,50])\n",
    "    high = np.array([140,255,255])\n",
    "\n",
    "    image_mask = cv2.inRange(hsv, low, high)\n",
    "    output = cv2.bitwise_and(frame, frame, mask = image_mask)\n",
    "    \n",
    "    cv2.imshow(\"Image Show\", image_mask)\n",
    "    cv2.imshow(\"Original Webcam feed\", frame)\n",
    "    cv2.imshow(\"Blue Object\", output)\n",
    "    \n",
    "    if cv2.waitKey(1) == 27:\n",
    "        break\n",
    "\n",
    "cv2.destroyAllWindows()\n",
    "cap.release()\n",
    "\n",
    "\n",
    "\n",
    "#____________________________________________\n",
    "#____NB. COLOR RANGES____\n",
    "#______________________________\n",
    "#*BLUE...\n",
    "#low = np.array([100,50,50])\n",
    "#high = np.array([140,255,255])\n",
    "#______________________________\n",
    "#*GREEN...\n",
    "#low = np.array([50, 100, 100])\n",
    "#high = np.array([70, 255, 255])\n",
    "#______________________________\n",
    "#*RED...\n",
    "# Define the lower and upper limits for red\n",
    "#lower_red1 = np.array([0, 100, 100])\n",
    "#upper_red1 = np.array([10, 255, 255])\n",
    "\n",
    "#lower_red2 = np.array([170, 100, 100])\n",
    "#upper_red2 = np.array([180, 255, 255])\n",
    "#____________________________________________\n",
    "\n",
    "\n",
    "#========================================================"
   ]
  },
  {
   "cell_type": "code",
   "execution_count": null,
   "metadata": {},
   "outputs": [],
   "source": []
  },
  {
   "cell_type": "code",
   "execution_count": null,
   "metadata": {},
   "outputs": [],
   "source": []
  }
 ],
 "metadata": {
  "kernelspec": {
   "display_name": "Python 3",
   "language": "python",
   "name": "python3"
  },
  "language_info": {
   "codemirror_mode": {
    "name": "ipython",
    "version": 3
   },
   "file_extension": ".py",
   "mimetype": "text/x-python",
   "name": "python",
   "nbconvert_exporter": "python",
   "pygments_lexer": "ipython3",
   "version": "3.7.3"
  }
 },
 "nbformat": 4,
 "nbformat_minor": 5
}
