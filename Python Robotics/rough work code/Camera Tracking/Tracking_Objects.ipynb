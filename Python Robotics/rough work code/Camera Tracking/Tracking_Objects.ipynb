{
 "cells": [
  {
   "cell_type": "code",
   "execution_count": 2,
   "metadata": {},
   "outputs": [
    {
     "name": "stdout",
     "output_type": "stream",
     "text": [
      "Error capturing frame. Check camera connection.\n"
     ]
    }
   ],
   "source": [
    "#========================================================\n",
    "#________________________________________________________\n",
    "#Filename: Tracking_Objects.ipynb\n",
    "#Author: Sopumelela Sandekela\n",
    "#Create: 23/07/2024\n",
    "#Operationg System: DexterOS\n",
    "#Version: v1.0\n",
    "#Description: This code captures video from defualt camera, \n",
    "#and tracks the object selected by mouse.\n",
    "#________________________________________________________\n",
    "import cv2\n",
    "\n",
    "cap = cv2.VideoCapture(1)\n",
    "\n",
    "while True:\n",
    "    success, img = cap.read()\n",
    "\n",
    "    if not success:\n",
    "        print(\"Error capturing frame. Check camera connection.\")\n",
    "        break\n",
    "\n",
    "    cv2.imshow(\"Tracking\", img)\n",
    "\n",
    "    if cv2.waitKey(1) & 0xFF == ord('q'):\n",
    "        break\n",
    "\n",
    "cap.release()\n",
    "cv2.destroyAllWindows()\n",
    "\n"
   ]
  },
  {
   "cell_type": "code",
   "execution_count": null,
   "metadata": {},
   "outputs": [],
   "source": []
  }
 ],
 "metadata": {
  "kernelspec": {
   "display_name": "Python 3",
   "language": "python",
   "name": "python3"
  },
  "language_info": {
   "codemirror_mode": {
    "name": "ipython",
    "version": 3
   },
   "file_extension": ".py",
   "mimetype": "text/x-python",
   "name": "python",
   "nbconvert_exporter": "python",
   "pygments_lexer": "ipython3",
   "version": "3.7.3"
  }
 },
 "nbformat": 4,
 "nbformat_minor": 4
}
